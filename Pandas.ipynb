{
 "cells": [
  {
   "cell_type": "code",
   "execution_count": 1,
   "id": "3aecfc5f",
   "metadata": {},
   "outputs": [],
   "source": [
    "import pandas as pd       \n"
   ]
  },
  {
   "cell_type": "code",
   "execution_count": 3,
   "id": "75f79ee2",
   "metadata": {},
   "outputs": [
    {
     "name": "stdout",
     "output_type": "stream",
     "text": [
      "  Student  Addmission\n",
      "0   kevin        2003\n",
      "1  avinas        2024\n",
      "2   keyur        2022\n",
      "3   harsh        2023\n"
     ]
    }
   ],
   "source": [
    "dataset={\n",
    "    'Student':['kevin','avinas','keyur','harsh'],\n",
    "    'Addmission':[2003,2024,2022,2023]\n",
    "}\n",
    "demo=pd.DataFrame(dataset)\n",
    "print(demo)"
   ]
  },
  {
   "cell_type": "code",
   "execution_count": 4,
   "id": "b48ff180",
   "metadata": {},
   "outputs": [
    {
     "name": "stdout",
     "output_type": "stream",
     "text": [
      "1.4.2\n"
     ]
    }
   ],
   "source": [
    "print(pd.__version__)"
   ]
  },
  {
   "cell_type": "code",
   "execution_count": 8,
   "id": "958849d3",
   "metadata": {},
   "outputs": [
    {
     "name": "stdout",
     "output_type": "stream",
     "text": [
      "0    20\n",
      "1    30\n",
      "2    40\n",
      "3    50\n",
      "dtype: int64\n"
     ]
    }
   ],
   "source": [
    "a=[20,30,40,50]\n",
    "demo1=pd.Series(a)\n",
    "print(demo1)"
   ]
  },
  {
   "cell_type": "code",
   "execution_count": 10,
   "id": "94fd11d2",
   "metadata": {},
   "outputs": [
    {
     "name": "stdout",
     "output_type": "stream",
     "text": [
      "m1    20\n",
      "m2    30\n",
      "m3    40\n",
      "m4    50\n",
      "dtype: int64\n"
     ]
    }
   ],
   "source": [
    "demo2=pd.Series(a,index=[\"m1\",\"m2\",\"m3\",\"m4\"])\n",
    "print(demo2)"
   ]
  },
  {
   "cell_type": "code",
   "execution_count": 14,
   "id": "ddd2ce48",
   "metadata": {},
   "outputs": [
    {
     "name": "stdout",
     "output_type": "stream",
     "text": [
      "20\n"
     ]
    }
   ],
   "source": [
    "print(demo2\n",
    "      [\"m1\"])"
   ]
  },
  {
   "cell_type": "code",
   "execution_count": 18,
   "id": "e278410c",
   "metadata": {},
   "outputs": [
    {
     "name": "stdout",
     "output_type": "stream",
     "text": [
      "kevin    299\n",
      "paras    100\n",
      "harsh    150\n",
      "dtype: int64\n"
     ]
    }
   ],
   "source": [
    "marks={\"kevin\":299,\"paras\":100,\"harsh\":150}\n",
    "demo3=pd.Series(marks)\n",
    "print(demo3)\n"
   ]
  },
  {
   "cell_type": "code",
   "execution_count": 17,
   "id": "a3bdbf8c",
   "metadata": {},
   "outputs": [
    {
     "name": "stdout",
     "output_type": "stream",
     "text": [
      "299\n"
     ]
    }
   ],
   "source": [
    "print(demo3[\"kevin\"])"
   ]
  },
  {
   "cell_type": "code",
   "execution_count": 21,
   "id": "6d10e002",
   "metadata": {},
   "outputs": [
    {
     "name": "stdout",
     "output_type": "stream",
     "text": [
      "kevin    299\n",
      "harsh    150\n",
      "dtype: int64\n"
     ]
    }
   ],
   "source": [
    "demo3=pd.Series(marks,index={\"kevin\",\"harsh\"})\n",
    "print(demo3)"
   ]
  },
  {
   "cell_type": "code",
   "execution_count": 22,
   "id": "e4178a85",
   "metadata": {},
   "outputs": [
    {
     "name": "stdout",
     "output_type": "stream",
     "text": [
      "     Product  Price\n",
      "0  chocolate    150\n",
      "1       puff     20\n",
      "2     wafers     25\n"
     ]
    }
   ],
   "source": [
    "data={\"Product\":[\"chocolate\",\"puff\",\"wafers\"],\n",
    "     \"Price\":[150,20,25]}\n",
    "\n",
    "dataf=pd.DataFrame(data)\n",
    "print(dataf)"
   ]
  },
  {
   "cell_type": "code",
   "execution_count": 26,
   "id": "060f968b",
   "metadata": {},
   "outputs": [
    {
     "name": "stdout",
     "output_type": "stream",
     "text": [
      "Product    wafers\n",
      "Price          25\n",
      "Name: 2, dtype: object\n"
     ]
    }
   ],
   "source": [
    "print(dataf.loc[2])"
   ]
  },
  {
   "cell_type": "code",
   "execution_count": 41,
   "id": "4d2a37a4",
   "metadata": {},
   "outputs": [
    {
     "name": "stdout",
     "output_type": "stream",
     "text": [
      "   roll no    Name   Total mark  Obtain mark\n",
      "0        1    Kevin         500        499.0\n",
      "1        2  Avinash         500        380.0\n",
      "2        3    Harsh         500        102.0\n",
      "3        4     Ansh         500        399.0\n",
      "4        5    Parsh         500        450.0\n",
      "5        6    Kevin         500        499.0\n",
      "6        7  Avinash         500          NaN\n",
      "7        8    Harsh         500        102.0\n",
      "8        9     Ansh         500        399.0\n",
      "9       10    Parsh         500          NaN\n"
     ]
    }
   ],
   "source": [
    "stmark=pd.read_csv('demo.csv')\n",
    "print(stmark)"
   ]
  },
  {
   "cell_type": "code",
   "execution_count": null,
   "id": "26785a8a",
   "metadata": {},
   "outputs": [],
   "source": []
  },
  {
   "cell_type": "code",
   "execution_count": 33,
   "id": "aee0c29a",
   "metadata": {},
   "outputs": [
    {
     "name": "stdout",
     "output_type": "stream",
     "text": [
      "60\n"
     ]
    }
   ],
   "source": [
    "print(pd.options.display.max_rows)"
   ]
  },
  {
   "cell_type": "code",
   "execution_count": 36,
   "id": "bbe13925",
   "metadata": {},
   "outputs": [
    {
     "name": "stdout",
     "output_type": "stream",
     "text": [
      "   roll no    Name   Total mark  Obtain mark\n",
      "5        6    Kevin         500          499\n",
      "6        7  Avinash         500          380\n",
      "7        8    Harsh         500          102\n",
      "8        9     Ansh         500          399\n",
      "9       10    Parsh         500          450\n"
     ]
    }
   ],
   "source": [
    "print(stmark.tail())#get last five records "
   ]
  },
  {
   "cell_type": "code",
   "execution_count": 37,
   "id": "1b603797",
   "metadata": {},
   "outputs": [
    {
     "name": "stdout",
     "output_type": "stream",
     "text": [
      "   roll no    Name   Total mark  Obtain mark\n",
      "0        1    Kevin         500          499\n",
      "1        2  Avinash         500          380\n",
      "2        3    Harsh         500          102\n",
      "3        4     Ansh         500          399\n",
      "4        5    Parsh         500          450\n"
     ]
    }
   ],
   "source": [
    "print(stmark.head())#get first 5 records"
   ]
  },
  {
   "cell_type": "code",
   "execution_count": 38,
   "id": "8d4129d4",
   "metadata": {},
   "outputs": [
    {
     "name": "stdout",
     "output_type": "stream",
     "text": [
      "<class 'pandas.core.frame.DataFrame'>\n",
      "RangeIndex: 10 entries, 0 to 9\n",
      "Data columns (total 4 columns):\n",
      " #   Column       Non-Null Count  Dtype \n",
      "---  ------       --------------  ----- \n",
      " 0   roll no      10 non-null     int64 \n",
      " 1   Name         10 non-null     object\n",
      " 2   Total mark   10 non-null     int64 \n",
      " 3   Obtain mark  10 non-null     int64 \n",
      "dtypes: int64(3), object(1)\n",
      "memory usage: 448.0+ bytes\n",
      "None\n"
     ]
    }
   ],
   "source": [
    "print(stmark.info())#info about csv file"
   ]
  },
  {
   "cell_type": "code",
   "execution_count": 42,
   "id": "b5016fb4",
   "metadata": {},
   "outputs": [
    {
     "name": "stdout",
     "output_type": "stream",
     "text": [
      "   roll no    Name   Total mark  Obtain mark\n",
      "0        1    Kevin         500        499.0\n",
      "1        2  Avinash         500        380.0\n",
      "2        3    Harsh         500        102.0\n",
      "3        4     Ansh         500        399.0\n",
      "4        5    Parsh         500        450.0\n",
      "5        6    Kevin         500        499.0\n",
      "7        8    Harsh         500        102.0\n",
      "8        9     Ansh         500        399.0\n"
     ]
    }
   ],
   "source": [
    "new_stud=stmark.dropna()#delete row where column have null value in any field \n",
    "print(new_stud)"
   ]
  },
  {
   "cell_type": "code",
   "execution_count": 48,
   "id": "91104448",
   "metadata": {},
   "outputs": [
    {
     "name": "stdout",
     "output_type": "stream",
     "text": [
      "   roll no    Name   Total mark  Obtain mark\n",
      "0        1    Kevin         500        499.0\n",
      "1        2  Avinash         500        380.0\n",
      "2        3    Harsh         500        102.0\n",
      "3        4     Ansh         500        399.0\n",
      "4        5    Parsh         500        450.0\n",
      "5        6    Kevin         500        499.0\n",
      "6        7  Avinash         500        111.0\n",
      "7        8    Harsh         500        102.0\n",
      "8        9     Ansh         500        399.0\n",
      "9       10    Parsh         500        111.0\n"
     ]
    }
   ],
   "source": [
    "fill_stud=stmark.fillna(111)\n",
    "print(fill_stud)"
   ]
  },
  {
   "cell_type": "code",
   "execution_count": 49,
   "id": "818a89ec",
   "metadata": {},
   "outputs": [
    {
     "data": {
      "text/plain": [
       "0     499.0\n",
       "1     380.0\n",
       "2     102.0\n",
       "3     399.0\n",
       "4     450.0\n",
       "5     499.0\n",
       "6    2000.0\n",
       "7     102.0\n",
       "8     399.0\n",
       "9    2000.0\n",
       "Name: Obtain mark, dtype: float64"
      ]
     },
     "execution_count": 49,
     "metadata": {},
     "output_type": "execute_result"
    }
   ],
   "source": [
    "stmark[\"Obtain mark\"].fillna(2000)"
   ]
  },
  {
   "cell_type": "code",
   "execution_count": 58,
   "id": "10bcdf8a",
   "metadata": {},
   "outputs": [
    {
     "name": "stdout",
     "output_type": "stream",
     "text": [
      "Mean is : 353.75\n"
     ]
    }
   ],
   "source": [
    "mean=stmark[\"Obtain mark\"].mean()\n",
    "print(\"Mean is :\",mean)"
   ]
  },
  {
   "cell_type": "code",
   "execution_count": 59,
   "id": "df4b3572",
   "metadata": {},
   "outputs": [
    {
     "name": "stdout",
     "output_type": "stream",
     "text": [
      "Median is : 399.0\n"
     ]
    }
   ],
   "source": [
    "median=stmark[\"Obtain mark\"].median()\n",
    "print(\"Median is :\",median)"
   ]
  },
  {
   "cell_type": "code",
   "execution_count": 60,
   "id": "75b77d17",
   "metadata": {},
   "outputs": [
    {
     "name": "stdout",
     "output_type": "stream",
     "text": [
      "Mode is : 0    102.0\n",
      "1    399.0\n",
      "2    499.0\n",
      "Name: Obtain mark, dtype: float64\n"
     ]
    }
   ],
   "source": [
    "mode=stmark[\"Obtain mark\"].mode()\n",
    "print(\"Mode is :\",mode)"
   ]
  },
  {
   "cell_type": "code",
   "execution_count": 61,
   "id": "f45c2b66",
   "metadata": {},
   "outputs": [
    {
     "data": {
      "text/plain": [
       "Index(['roll no', 'Name ', 'Total mark', 'Obtain mark'], dtype='object')"
      ]
     },
     "execution_count": 61,
     "metadata": {},
     "output_type": "execute_result"
    }
   ],
   "source": [
    "stmark.columns #get colmn name in csv file"
   ]
  },
  {
   "cell_type": "code",
   "execution_count": 62,
   "id": "5a62f8fa",
   "metadata": {},
   "outputs": [
    {
     "name": "stdout",
     "output_type": "stream",
     "text": [
      "   roll no  Name   Total mark  Obtain mark\n",
      "2        3  Harsh         500        102.0\n",
      "3        4   Ansh         500        399.0\n",
      "4        5  Parsh         500        450.0\n",
      "5        6  Kevin         500        499.0\n"
     ]
    }
   ],
   "source": [
    "print(stmark.loc[2:5])"
   ]
  },
  {
   "cell_type": "code",
   "execution_count": 68,
   "id": "d18a80b8",
   "metadata": {},
   "outputs": [
    {
     "data": {
      "text/html": [
       "<div>\n",
       "<style scoped>\n",
       "    .dataframe tbody tr th:only-of-type {\n",
       "        vertical-align: middle;\n",
       "    }\n",
       "\n",
       "    .dataframe tbody tr th {\n",
       "        vertical-align: top;\n",
       "    }\n",
       "\n",
       "    .dataframe thead th {\n",
       "        text-align: right;\n",
       "    }\n",
       "</style>\n",
       "<table border=\"1\" class=\"dataframe\">\n",
       "  <thead>\n",
       "    <tr style=\"text-align: right;\">\n",
       "      <th></th>\n",
       "      <th>roll no</th>\n",
       "      <th>Name</th>\n",
       "      <th>Total mark</th>\n",
       "      <th>Obtain mark</th>\n",
       "    </tr>\n",
       "  </thead>\n",
       "  <tbody>\n",
       "    <tr>\n",
       "      <th>0</th>\n",
       "      <td>1</td>\n",
       "      <td>Kevin</td>\n",
       "      <td>500</td>\n",
       "      <td>499.0</td>\n",
       "    </tr>\n",
       "    <tr>\n",
       "      <th>5</th>\n",
       "      <td>6</td>\n",
       "      <td>Kevin</td>\n",
       "      <td>500</td>\n",
       "      <td>499.0</td>\n",
       "    </tr>\n",
       "    <tr>\n",
       "      <th>4</th>\n",
       "      <td>5</td>\n",
       "      <td>Parsh</td>\n",
       "      <td>500</td>\n",
       "      <td>450.0</td>\n",
       "    </tr>\n",
       "    <tr>\n",
       "      <th>3</th>\n",
       "      <td>4</td>\n",
       "      <td>Ansh</td>\n",
       "      <td>500</td>\n",
       "      <td>399.0</td>\n",
       "    </tr>\n",
       "    <tr>\n",
       "      <th>8</th>\n",
       "      <td>9</td>\n",
       "      <td>Ansh</td>\n",
       "      <td>500</td>\n",
       "      <td>399.0</td>\n",
       "    </tr>\n",
       "    <tr>\n",
       "      <th>1</th>\n",
       "      <td>2</td>\n",
       "      <td>Avinash</td>\n",
       "      <td>500</td>\n",
       "      <td>380.0</td>\n",
       "    </tr>\n",
       "    <tr>\n",
       "      <th>2</th>\n",
       "      <td>3</td>\n",
       "      <td>Harsh</td>\n",
       "      <td>500</td>\n",
       "      <td>102.0</td>\n",
       "    </tr>\n",
       "    <tr>\n",
       "      <th>7</th>\n",
       "      <td>8</td>\n",
       "      <td>Harsh</td>\n",
       "      <td>500</td>\n",
       "      <td>102.0</td>\n",
       "    </tr>\n",
       "    <tr>\n",
       "      <th>6</th>\n",
       "      <td>7</td>\n",
       "      <td>Avinash</td>\n",
       "      <td>500</td>\n",
       "      <td>NaN</td>\n",
       "    </tr>\n",
       "    <tr>\n",
       "      <th>9</th>\n",
       "      <td>10</td>\n",
       "      <td>Parsh</td>\n",
       "      <td>500</td>\n",
       "      <td>NaN</td>\n",
       "    </tr>\n",
       "  </tbody>\n",
       "</table>\n",
       "</div>"
      ],
      "text/plain": [
       "   roll no    Name   Total mark  Obtain mark\n",
       "0        1    Kevin         500        499.0\n",
       "5        6    Kevin         500        499.0\n",
       "4        5    Parsh         500        450.0\n",
       "3        4     Ansh         500        399.0\n",
       "8        9     Ansh         500        399.0\n",
       "1        2  Avinash         500        380.0\n",
       "2        3    Harsh         500        102.0\n",
       "7        8    Harsh         500        102.0\n",
       "6        7  Avinash         500          NaN\n",
       "9       10    Parsh         500          NaN"
      ]
     },
     "execution_count": 68,
     "metadata": {},
     "output_type": "execute_result"
    }
   ],
   "source": [
    "stmark.sort_values([\"Obtain mark\"],ascending=0)# for ascending\n"
   ]
  },
  {
   "cell_type": "code",
   "execution_count": 73,
   "id": "6f20ebdb",
   "metadata": {},
   "outputs": [
    {
     "data": {
      "text/html": [
       "<div>\n",
       "<style scoped>\n",
       "    .dataframe tbody tr th:only-of-type {\n",
       "        vertical-align: middle;\n",
       "    }\n",
       "\n",
       "    .dataframe tbody tr th {\n",
       "        vertical-align: top;\n",
       "    }\n",
       "\n",
       "    .dataframe thead th {\n",
       "        text-align: right;\n",
       "    }\n",
       "</style>\n",
       "<table border=\"1\" class=\"dataframe\">\n",
       "  <thead>\n",
       "    <tr style=\"text-align: right;\">\n",
       "      <th></th>\n",
       "      <th>roll no</th>\n",
       "      <th>Name</th>\n",
       "      <th>Total mark</th>\n",
       "      <th>Obtain mark</th>\n",
       "    </tr>\n",
       "  </thead>\n",
       "  <tbody>\n",
       "    <tr>\n",
       "      <th>2</th>\n",
       "      <td>3</td>\n",
       "      <td>Harsh</td>\n",
       "      <td>500</td>\n",
       "      <td>102.0</td>\n",
       "    </tr>\n",
       "    <tr>\n",
       "      <th>7</th>\n",
       "      <td>8</td>\n",
       "      <td>Harsh</td>\n",
       "      <td>500</td>\n",
       "      <td>102.0</td>\n",
       "    </tr>\n",
       "    <tr>\n",
       "      <th>1</th>\n",
       "      <td>2</td>\n",
       "      <td>Avinash</td>\n",
       "      <td>500</td>\n",
       "      <td>380.0</td>\n",
       "    </tr>\n",
       "    <tr>\n",
       "      <th>3</th>\n",
       "      <td>4</td>\n",
       "      <td>Ansh</td>\n",
       "      <td>500</td>\n",
       "      <td>399.0</td>\n",
       "    </tr>\n",
       "    <tr>\n",
       "      <th>8</th>\n",
       "      <td>9</td>\n",
       "      <td>Ansh</td>\n",
       "      <td>500</td>\n",
       "      <td>399.0</td>\n",
       "    </tr>\n",
       "    <tr>\n",
       "      <th>4</th>\n",
       "      <td>5</td>\n",
       "      <td>Parsh</td>\n",
       "      <td>500</td>\n",
       "      <td>450.0</td>\n",
       "    </tr>\n",
       "    <tr>\n",
       "      <th>0</th>\n",
       "      <td>1</td>\n",
       "      <td>Kevin</td>\n",
       "      <td>500</td>\n",
       "      <td>499.0</td>\n",
       "    </tr>\n",
       "    <tr>\n",
       "      <th>5</th>\n",
       "      <td>6</td>\n",
       "      <td>Kevin</td>\n",
       "      <td>500</td>\n",
       "      <td>499.0</td>\n",
       "    </tr>\n",
       "    <tr>\n",
       "      <th>6</th>\n",
       "      <td>7</td>\n",
       "      <td>Avinash</td>\n",
       "      <td>500</td>\n",
       "      <td>NaN</td>\n",
       "    </tr>\n",
       "    <tr>\n",
       "      <th>9</th>\n",
       "      <td>10</td>\n",
       "      <td>Parsh</td>\n",
       "      <td>500</td>\n",
       "      <td>NaN</td>\n",
       "    </tr>\n",
       "  </tbody>\n",
       "</table>\n",
       "</div>"
      ],
      "text/plain": [
       "   roll no    Name   Total mark  Obtain mark\n",
       "2        3    Harsh         500        102.0\n",
       "7        8    Harsh         500        102.0\n",
       "1        2  Avinash         500        380.0\n",
       "3        4     Ansh         500        399.0\n",
       "8        9     Ansh         500        399.0\n",
       "4        5    Parsh         500        450.0\n",
       "0        1    Kevin         500        499.0\n",
       "5        6    Kevin         500        499.0\n",
       "6        7  Avinash         500          NaN\n",
       "9       10    Parsh         500          NaN"
      ]
     },
     "execution_count": 73,
     "metadata": {},
     "output_type": "execute_result"
    }
   ],
   "source": [
    "stmark.sort_values([\"Obtain mark\"],ascending=1)#for desending"
   ]
  },
  {
   "cell_type": "code",
   "execution_count": 80,
   "id": "71688386",
   "metadata": {},
   "outputs": [
    {
     "data": {
      "text/html": [
       "<div>\n",
       "<style scoped>\n",
       "    .dataframe tbody tr th:only-of-type {\n",
       "        vertical-align: middle;\n",
       "    }\n",
       "\n",
       "    .dataframe tbody tr th {\n",
       "        vertical-align: top;\n",
       "    }\n",
       "\n",
       "    .dataframe thead th {\n",
       "        text-align: right;\n",
       "    }\n",
       "</style>\n",
       "<table border=\"1\" class=\"dataframe\">\n",
       "  <thead>\n",
       "    <tr style=\"text-align: right;\">\n",
       "      <th></th>\n",
       "      <th>roll no</th>\n",
       "      <th>Name</th>\n",
       "      <th>Total mark</th>\n",
       "      <th>Obtain mark</th>\n",
       "      <th>Percentage</th>\n",
       "    </tr>\n",
       "  </thead>\n",
       "  <tbody>\n",
       "    <tr>\n",
       "      <th>0</th>\n",
       "      <td>1</td>\n",
       "      <td>Kevin</td>\n",
       "      <td>500</td>\n",
       "      <td>499.0</td>\n",
       "      <td>99.8</td>\n",
       "    </tr>\n",
       "    <tr>\n",
       "      <th>1</th>\n",
       "      <td>2</td>\n",
       "      <td>Avinash</td>\n",
       "      <td>500</td>\n",
       "      <td>380.0</td>\n",
       "      <td>76.0</td>\n",
       "    </tr>\n",
       "    <tr>\n",
       "      <th>2</th>\n",
       "      <td>3</td>\n",
       "      <td>Harsh</td>\n",
       "      <td>500</td>\n",
       "      <td>102.0</td>\n",
       "      <td>20.4</td>\n",
       "    </tr>\n",
       "    <tr>\n",
       "      <th>3</th>\n",
       "      <td>4</td>\n",
       "      <td>Ansh</td>\n",
       "      <td>500</td>\n",
       "      <td>399.0</td>\n",
       "      <td>79.8</td>\n",
       "    </tr>\n",
       "    <tr>\n",
       "      <th>4</th>\n",
       "      <td>5</td>\n",
       "      <td>Parsh</td>\n",
       "      <td>500</td>\n",
       "      <td>450.0</td>\n",
       "      <td>90.0</td>\n",
       "    </tr>\n",
       "  </tbody>\n",
       "</table>\n",
       "</div>"
      ],
      "text/plain": [
       "   roll no    Name   Total mark  Obtain mark  Percentage\n",
       "0        1    Kevin         500        499.0        99.8\n",
       "1        2  Avinash         500        380.0        76.0\n",
       "2        3    Harsh         500        102.0        20.4\n",
       "3        4     Ansh         500        399.0        79.8\n",
       "4        5    Parsh         500        450.0        90.0"
      ]
     },
     "execution_count": 80,
     "metadata": {},
     "output_type": "execute_result"
    }
   ],
   "source": [
    "stmark['Percentage']=(stmark['Obtain mark']/stmark[\"Total mark\"])*100\n",
    "stmark.head(5)"
   ]
  },
  {
   "cell_type": "code",
   "execution_count": null,
   "id": "71abc9df",
   "metadata": {},
   "outputs": [],
   "source": []
  }
 ],
 "metadata": {
  "kernelspec": {
   "display_name": "Python 3 (ipykernel)",
   "language": "python",
   "name": "python3"
  },
  "language_info": {
   "codemirror_mode": {
    "name": "ipython",
    "version": 3
   },
   "file_extension": ".py",
   "mimetype": "text/x-python",
   "name": "python",
   "nbconvert_exporter": "python",
   "pygments_lexer": "ipython3",
   "version": "3.9.12"
  }
 },
 "nbformat": 4,
 "nbformat_minor": 5
}
